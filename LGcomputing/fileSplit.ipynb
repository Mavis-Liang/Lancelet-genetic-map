{
 "cells": [
  {
   "cell_type": "code",
   "execution_count": 4,
   "metadata": {},
   "outputs": [],
   "source": [
    "##读入\n",
    "chrom=[]\n",
    "with open(\"bioFilt_left.vcf\",\"r\") as f:\n",
    "    line_list=f.readlines()\n",
    "    for i in range(len(line_list)):\n",
    "        chrom.append((line_list[i].split())[0])"
   ]
  },
  {
   "cell_type": "code",
   "execution_count": 9,
   "metadata": {},
   "outputs": [],
   "source": [
    "##写出\n",
    "import math\n",
    "newlist=[]\n",
    "z=1\n",
    "for i in range(len(line_list)):\n",
    "    newlist.append(line_list[i])\n",
    "    j=i+1\n",
    "    if j<len(line_list):\n",
    "        if  chrom[j]==chrom[i] and len(newlist)<1000:\n",
    "            continue\n",
    "    with open(\"./bioFilt_split/split\"+str(z)+\".vcf\",\"w\") as g:\n",
    "        g.write(\"#CHROM\\tPOS\\tID\\tREF\\tALT\\tQUAL\\tFILTER\\tINFO\\tFORMAT\\tmaternal1\"\\\n",
    "            +\"\\toff05\\toff06\\toff07\\toff_L1_80\\toff_L1_81\\toff_L1_83\\toff_L2_85\"\\\n",
    "            +\"\\toff_L2_86\\toff_L2_89\\toff_L3_90\\toff_L3_92\\toff_L3_93\\toff_L4_94\"\\\n",
    "            +\"\\toff_L4_96\\toff_L4_97\\toff_L5_100\\toff_L5_101\\toff_L5_98\\toff_L6_102\"\\\n",
    "            +\"\\toff_L6_106\\toff_L6_108\\toff_L7_110\\toff_L7_111\\toff_L7_112\\toff_L8_103\"\\\n",
    "            +\"\\toff_L8_113\\toff_L8_95\\txL1_58\\txL1_59\\txL1_60\\txL2_61\\txL2_62\\txL2_63\"\\\n",
    "            +\"\\txL3_66\\txL3_67\\txL3_68\\txL4_70\\txL4_71\\txL4_72\\txL5_73\\txL5_75\\txL5_76\"\\\n",
    "            +\"\\txL6_77\\txL6_78\\txL6_79\\txL7_80\\txL7_81\\txL7_83\\txL8_84\\txL8_85\\txL8_86\\n\")\n",
    "        g.writelines(newlist)\n",
    "        g.close()\n",
    "        z+=1\n",
    "        newlist=[]"
   ]
  }
 ],
 "metadata": {
  "kernelspec": {
   "display_name": "Python 3",
   "language": "python",
   "name": "python3"
  },
  "language_info": {
   "codemirror_mode": {
    "name": "ipython",
    "version": 3
   },
   "file_extension": ".py",
   "mimetype": "text/x-python",
   "name": "python",
   "nbconvert_exporter": "python",
   "pygments_lexer": "ipython3",
   "version": "3.8.3"
  }
 },
 "nbformat": 4,
 "nbformat_minor": 4
}
