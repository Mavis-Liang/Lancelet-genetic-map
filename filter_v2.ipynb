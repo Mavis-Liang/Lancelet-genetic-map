{
 "cells": [
  {
   "cell_type": "code",
   "execution_count": 1,
   "metadata": {},
   "outputs": [],
   "source": [
    "import shutil,sys,os,time\n",
    "import numpy as np\n",
    "refFile=\"../VariantFiltration/Branchiostoma.belcheri_v18h27.r3_ref_genome.softmasked.fa\"\n",
    "vcfFile=\"Extracted.vcf\" #or \"52_bbe_copy.vcf\". But need to rewrite.\n",
    "snpQD_File=\"../VariantFiltration/52_bbe_copy_SNP_filter.vcf\"\n",
    "indelQD_File=\"../VariantFiltration/52_bbe_copy_INDEL_filter.vcf\"\n",
    "snpNoQD_File=\"../VariantFiltration/NO_QD_SNP.vcf\"\n",
    "indelNoQD_File=\"../VariantFiltration/NO_QD_INDEL.vcf\""
   ]
  },
  {
   "cell_type": "markdown",
   "metadata": {},
   "source": [
    "## 一、标记long（>4bp) 和complex，及其上下游10bp。"
   ]
  },
  {
   "cell_type": "code",
   "execution_count": 2,
   "metadata": {},
   "outputs": [],
   "source": [
    "### 1. 导入文件，并形成四个list\n",
    "with open(vcfFile,\"r\") as h:  #h = gzip.GzipFile(\"52_bbe_copy.vcf.gz\") \n",
    "    i=0\n",
    "    line_list=[]\n",
    "    tmp_list=[]\n",
    "    vcf_chrom=[]\n",
    "    vcf_pos=[]\n",
    "    ref=[]\n",
    "    alt=[]\n",
    "    line_list=h.readlines()[1:]\n",
    "    for line in line_list:\n",
    "        tmp_list=line.split()\n",
    "        vcf_chrom.append(tmp_list[0])\n",
    "        vcf_pos.append(tmp_list[1])\n",
    "        ref.append((tmp_list[2]).split(\",\"))\n",
    "        alt.append((tmp_list[3]).split(\",\"))\n",
    "        i+=1\n",
    "vcf_pos=[int(x) for x in vcf_pos]"
   ]
  },
  {
   "cell_type": "code",
   "execution_count": 3,
   "metadata": {},
   "outputs": [],
   "source": [
    "### 2.把所有变异分为五类：普通SNP，普通INDEL，复合，长，带星号的，标记到新的一列“CnL”。\n",
    "i=0\n",
    "CnL=[]  # \"0.1\" for normal SNP and \"0.2\" for normal INDEL, \"1.1\" for complex, \"1.2\" for long, \"1.3\" for *. (既是complex又是long的，则优先判断为complex)\n",
    "star=0\n",
    "norm_snp=0\n",
    "norm_indel=0\n",
    "long=0\n",
    "compx=0\n",
    "while i<len(vcf_chrom):\n",
    "    if \"*\" in alt[i]:\n",
    "        CnL.append(1.3)\n",
    "        star+=1\n",
    "        \n",
    "    #These are INDELs.\n",
    "    elif len(max(ref[i]+alt[i], key=len, default='1'))>1:\n",
    "        ##complex\n",
    "        if \"*\" in alt[i+1] or (len(ref[i][0])<len(max(alt[i], key=len)) and len(min(alt[i],key=len))==1):\n",
    "            CnL.append(1.1)\n",
    "            compx+=1\n",
    "        ##long\n",
    "        elif len(max(ref[i]+alt[i], key=len, default='1'))>4:\n",
    "            CnL.append(1.2)\n",
    "            long+=1\n",
    "        ##normal\n",
    "        else:\n",
    "            CnL.append(0.2)\n",
    "            norm_indel+=1\n",
    "        \n",
    "#These are normal SNPs.\n",
    "    else: \n",
    "        CnL.append(0.1)\n",
    "        norm_snp+=1\n",
    "    i+=1"
   ]
  },
  {
   "cell_type": "code",
   "execution_count": 4,
   "metadata": {},
   "outputs": [],
   "source": [
    "### 3.往下删除10bp。第一层循环：根据当前位点是否为complex/long；第二层循环：根据其下游的位点是否在10bp内。\n",
    "i=0\n",
    "j=0\n",
    "maxPos=0\n",
    "newPos=0\n",
    "while i<len(CnL):\n",
    "    if CnL[i]==0.1 or CnL[i]==0.2 or CnL[i]==1.3:\n",
    "        pass\n",
    "    \n",
    "    elif CnL[i]==1.1 or CnL[i]==1.2:    #Complex/Long INDEL deletion.\n",
    "        maxPos=vcf_pos[i]+len(ref[i][0])-1\n",
    "        j=i+1\n",
    "        while CnL[j]==1.3:\n",
    "            newPos=vcf_pos[j]+len(ref[j][0])-1\n",
    "            if newPos>maxPos:\n",
    "                maxPos=newPos    #用最远的那个\n",
    "            \n",
    "            j+=1\n",
    "            \n",
    "            if j>len(CnL)-1:\n",
    "                break\n",
    "        \n",
    "        while vcf_chrom[i]==vcf_chrom[j] and (CnL[j]==0.1 or CnL[j]==0.2) and vcf_pos[j]<=maxPos+10:\n",
    "            CnL[j]=1.4   # For the normal SNP or INDEL which is within 10 bp downstream of complex/long, we assign the number \"1.4\".\n",
    "            j+=1\n",
    "            if j>len(CnL)-1:\n",
    "                break\n",
    "    i+=1            "
   ]
  },
  {
   "cell_type": "code",
   "execution_count": 5,
   "metadata": {},
   "outputs": [],
   "source": [
    "### 4.相同方式，倒着数10bp\n",
    "i=len(CnL)-1\n",
    "j=0\n",
    "while i>0:\n",
    "    if CnL[i]==0.1 or CnL[i]==0.2 or CnL[i]==1.3 or CnL[i]==1.4:\n",
    "        pass\n",
    "    elif CnL[i]==1.1 or CnL[i]==1.2:\n",
    "        j=i-1\n",
    "        while vcf_chrom[i]==vcf_chrom[j] and (CnL[j]==0.1 or CnL[j]==0.2 or CnL[j]==1.4) and vcf_pos[j]>=vcf_pos[i]-10:\n",
    "            CnL[j]=1.5   # For the normal SNP or INDEL which is within 10 bp upstream of complex/long, we assign the number \"1.5\".\n",
    "            j-=1\n",
    "            if j<0:\n",
    "                break    #防止编号j溢出label\n",
    "    i-=1"
   ]
  },
  {
   "cell_type": "code",
   "execution_count": 9,
   "metadata": {},
   "outputs": [
    {
     "name": "stdout",
     "output_type": "stream",
     "text": [
      "STEP 1 STATISTICS:\n",
      "total variants:  39555599 , normal SNP:  26746475 , normal INDEL:  3661658 , Complex Indel:  2516666 , long INDEL:  2249629 , star:  4381171\n",
      "In step 1,  17524292  variants (including 8376826 are broadened to 10bp around), are marked as 'removed'  22031307  marked as kept.\n",
      "\n"
     ]
    }
   ],
   "source": [
    "### 5. 第一步的统计\n",
    "print(\"STEP 1 STATISTICS:\\ntotal variants: \",len(vcf_pos),\", normal SNP: \",norm_snp,\", normal INDEL: \",norm_indel,\", Complex Indel: \",compx,\", long INDEL: \",long,\", star: \",star)\n",
    "\n",
    "kept=0\n",
    "down10=0\n",
    "up10=0\n",
    "for snp in CnL:\n",
    "    if snp==0.1 or snp==0.2:\n",
    "        kept+=1\n",
    "    elif snp==1.4:\n",
    "        down10+=1\n",
    "    elif snp==1.5:\n",
    "        up10+=1\n",
    "        \n",
    "print(\"In step 1, \",len(CnL)-kept,\" variants (including\",down10+up10,\"are broadened to 10bp around), are marked as 'removed' \",kept,\" marked as kept.\\n\")"
   ]
  },
  {
   "cell_type": "markdown",
   "metadata": {},
   "source": [
    "## 二、标记高密度位点"
   ]
  },
  {
   "cell_type": "code",
   "execution_count": 6,
   "metadata": {},
   "outputs": [],
   "source": [
    "#之前是相当于每10bp取一个SNP，现在是相当于把高密度（>10bp）的区域都删了（留下第一个）。\n",
    "#另起一列标签“HighDens”，高密度区域写成“1”，其它则为“0”。\n",
    "\n",
    "HighDens=[]\n",
    "for i in range(0,len(vcf_pos)):\n",
    "    HighDens.append(0)\n",
    "\n",
    "i=0\n",
    "j=i+1\n",
    "\n",
    "while i<len(vcf_pos)-2:\n",
    "    if CnL[i]==0.1 or CnL[i]==0.2 or HighDens[i]==1:\n",
    "        while CnL[j]==1.1 or CnL[j]==1.2 or CnL[j]==1.3 or CnL[j]==1.4 or CnL[j]==1.5:    ##Skip which are already marked as removed.\n",
    "            j+=1\n",
    "            if j>=len(vcf_pos)-2:\n",
    "                break\n",
    "        if vcf_chrom[j]==vcf_chrom[i] and vcf_pos[j]<vcf_pos[i]+len(ref[i][0])+9:\n",
    "            HighDens[j]=1\n",
    "    else:\n",
    "        pass\n",
    "    i=j\n",
    "    j=i+1\n",
    "    if i>=len(vcf_pos)-2:\n",
    "        break"
   ]
  },
  {
   "cell_type": "code",
   "execution_count": 15,
   "metadata": {},
   "outputs": [
    {
     "name": "stdout",
     "output_type": "stream",
     "text": [
      "STEP 2 STATISTICS:\n",
      "In step 2, 12823311 variants are within high-density regions.\n",
      "\n"
     ]
    }
   ],
   "source": [
    "### 第二步的统计\n",
    "dense=0\n",
    "for i in range(0,len(vcf_pos)):\n",
    "    if HighDens[i]==1:\n",
    "        dense+=1\n",
    "print(\"STEP 2 STATISTICS:\\nIn step 2,\",dense,'variants are within high-density regions.\\n')"
   ]
  },
  {
   "cell_type": "markdown",
   "metadata": {},
   "source": [
    "## 三、标记测序质量低的位点"
   ]
  },
  {
   "cell_type": "code",
   "execution_count": 7,
   "metadata": {},
   "outputs": [],
   "source": [
    "### 一、读取GATK生成的INDEL_filter.vcf、SNP_filter.vcf、NO_QD_INDEL.vcf、NO_QD_SNP.vcf四个文件：\n",
    "with open(snpQD_File,\"r\") as h:\n",
    "    count=0\n",
    "    line_list=[]\n",
    "    tmp_list=[]\n",
    "    snp_chrom=[]\n",
    "    snp_pos=[]\n",
    "    snpQD=[]\n",
    "    line_list=h.readlines()\n",
    "    for line in line_list:\n",
    "        if not line.startswith('#'):\n",
    "            tmp_list=line.split()\n",
    "            snp_chrom.append(tmp_list[0])\n",
    "            snp_pos.append(tmp_list[1])\n",
    "            snpQD.append(tmp_list[6])\n",
    "            count+=1\n",
    "snp_pos=[int(x) for x in snp_pos]\n",
    "\n",
    "with open(indelQD_File,\"r\") as h:\n",
    "    count=0\n",
    "    line_list=[]\n",
    "    tmp_list=[]\n",
    "    indel_chrom=[]\n",
    "    indel_pos=[]\n",
    "    indelQD=[]\n",
    "    line_list=h.readlines()\n",
    "    for line in line_list:\n",
    "        if not line.startswith('#'):\n",
    "            tmp_list=line.split()\n",
    "            indel_chrom.append(tmp_list[0])\n",
    "            indel_pos.append(tmp_list[1])\n",
    "            indelQD.append(tmp_list[6])\n",
    "            count+=1\n",
    "indel_pos=[int(x) for x in indel_pos]\n",
    "\n",
    "with open(snpNoQD_File,\"r\") as h:\n",
    "    count=0\n",
    "    line_list=[]\n",
    "    tmp_list=[]\n",
    "    noQD_snp_chrom=[]\n",
    "    noQD_snp_pos=[]\n",
    "    line_list=h.readlines()\n",
    "    for line in line_list:\n",
    "        if not line.startswith('#'):\n",
    "            tmp_list=line.split()\n",
    "            noQD_snp_chrom.append(tmp_list[0])\n",
    "            noQD_snp_pos.append(tmp_list[1])\n",
    "            count+=1\n",
    "noQD_snp_pos=[int(x) for x in noQD_snp_pos]\n",
    "\n",
    "with open(indelNoQD_File,\"r\") as h:\n",
    "    count=0\n",
    "    line_list=[]\n",
    "    tmp_list=[]\n",
    "    noQD_indel_chrom=[]\n",
    "    noQD_indel_pos=[]\n",
    "    line_list=h.readlines()\n",
    "    for line in line_list:\n",
    "        if not line.startswith('#'):\n",
    "            tmp_list=line.split()\n",
    "            noQD_indel_chrom.append(tmp_list[0])\n",
    "            noQD_indel_pos.append(tmp_list[1])\n",
    "            count+=1\n",
    "noQD_indel_pos=[int(x) for x in noQD_indel_pos]"
   ]
  },
  {
   "cell_type": "code",
   "execution_count": 8,
   "metadata": {},
   "outputs": [],
   "source": [
    "### 将这几个文件的信息转化到一列标记\n",
    "\n",
    "#### \"1\" for \"Filter\" SNP; \"2\" for \"Filter\" INDEL;\n",
    "#### \"0.1\" for 'PASS' and with-QD-value SNP; \"0.2\" for 'PASS' and with-OD-value INDEL;\n",
    "#### \"3\" for \"PASS\" but without-QD-value SNP; \"4\" for \"PASS\" but without-QD-value INDEL;\n",
    "#### \"99\" for variants undetected by GATK.\n",
    "\n",
    "QD=[]\n",
    "for p in range(len(vcf_pos)):\n",
    "    QD.append(99)\n",
    "\n",
    "i=0    \n",
    "for j in range(len(snp_pos)):\n",
    "    while not (vcf_chrom[i]==snp_chrom[j] and vcf_pos[i]==snp_pos[j]): \n",
    "        i+=1\n",
    "    if snpQD[j]==\"PASS\":\n",
    "        QD[i]=0.1\n",
    "    elif snpQD[j]==\"Filter\":\n",
    "        QD[i]=1\n",
    "    i+=1\n",
    "\n",
    "i=0\n",
    "for j in range(len(indel_pos)):\n",
    "    while not (vcf_chrom[i]==indel_chrom[j] and vcf_pos[i]==indel_pos[j]): \n",
    "        i+=1\n",
    "    if indelQD[j]==\"PASS\":\n",
    "        QD[i]=0.2\n",
    "    elif indelQD[j]==\"Filter\":\n",
    "        QD[i]=2\n",
    "    i+=1\n",
    "\n",
    "i=0    \n",
    "for j in range(len(noQD_indel_pos)):\n",
    "    while not (vcf_chrom[i]==noQD_indel_chrom[j] and vcf_pos[i]==noQD_indel_pos[j]): \n",
    "        i+=1\n",
    "    QD[i]=4\n",
    "    i+=1\n",
    "    \n",
    "i=0    \n",
    "for j in range(len(noQD_snp_pos)):\n",
    "    while not (vcf_chrom[i]==noQD_snp_chrom[j] and vcf_pos[i]==noQD_snp_pos[j]): \n",
    "        i+=1\n",
    "    QD[i]=3\n",
    "    i+=1 "
   ]
  },
  {
   "cell_type": "code",
   "execution_count": null,
   "metadata": {},
   "outputs": [],
   "source": [
    "### 第三步的统计：\n",
    "print(\"STEP 3 STATISTICS:\")\n",
    "print(\"Counts of SNP defined by GATK: \",count)\n",
    "print(\"Counts of indel defined by GATK: \",count)\n",
    "print(\"Counts of SNP without QD-value: \",count)\n",
    "print(\"Counts of INDEL without QD-value: \",count)\n",
    "\n",
    "indel_filter=0\n",
    "for QD in indelQD:\n",
    "    if QD==\"Filter\":\n",
    "        indel_filter+=1\n",
    "print(\"Of all the indels, %s are labeled as 'PASS', while %s are labeled as 'Filter'.\"%(len(indelQD)-indel_filter,indel_filter))\n",
    "snp_filter=0\n",
    "for QD in snpQD:\n",
    "    if QD==\"Filter\":\n",
    "        snp_filter+=1\n",
    "print(\"Of all the SNPs, %s are labeled as 'PASS', while %s are labeled as 'Filter'.\"%(len(snpQD)-snp_filter,snp_filter))\n",
    "\n",
    "passSNP=passINDEL=yi=er=san=si=na=0\n",
    "for qd in QD:\n",
    "    if qd==0.1:\n",
    "        passSNP+=1\n",
    "    elif qd==0.2:\n",
    "        passINDEL+=1\n",
    "    elif qd==1:\n",
    "        yi+=1\n",
    "    elif qd==2:\n",
    "        er+=1\n",
    "    elif qd==3:\n",
    "        san+=1\n",
    "    elif qd==4:\n",
    "        si+=1\n",
    "    else:\n",
    "        na+=1\n",
    "print(\"%s SNP left, %s indel left; %s SNP labeled 'filter', %s indel labeled 'filter'; %s SNP pass \\nbut no QD, %s indel pass but no QD; %s variants cannot be detected by GATK.\"%(passSNP,passINDEL,yi,er,san,si,na))"
   ]
  },
  {
   "cell_type": "markdown",
   "metadata": {},
   "source": [
    "## 四、标记低重复区域（LCR）"
   ]
  },
  {
   "cell_type": "code",
   "execution_count": 9,
   "metadata": {},
   "outputs": [],
   "source": [
    "#把fasta中的小写位点写成两个list\n",
    "with open(refFile,\"r\") as f:\n",
    "    chrom=[]\n",
    "    pos=[]\n",
    "    linelist=f.read().splitlines()\n",
    "    ####用i数scaffold，j数行（每换一个scaffold归零一次），z数位点（每换一行归零一次）。\n",
    "    i=0\n",
    "    while i<len(linelist):\n",
    "        j=1\n",
    "        while not linelist[i+j].startswith('>'):\n",
    "            for z in range(len(linelist[i+j])):\n",
    "                if linelist[i+j][z].isupper():\n",
    "                    pass\n",
    "                else:\n",
    "                    chrom.append(linelist[i][1:])\n",
    "                    pos.append(z+1+(j-1)*50)\n",
    "            j+=1\n",
    "            if i+j>=len(linelist):\n",
    "                break\n",
    "        i+=j\n",
    "z=list(zip(chrom,pos))"
   ]
  },
  {
   "cell_type": "code",
   "execution_count": 10,
   "metadata": {},
   "outputs": [],
   "source": [
    "#求fasta的小写位点与vcf所有位点的交集\n",
    "z_vcf=list(zip(vcf_chrom,vcf_pos))\n",
    "intersect=list(set(z_vcf)&set(z))\n",
    "sorted_intersect=sorted(intersect,key=lambda x:(x[0],x[1]))\n",
    "\n",
    "#写入lcr的标记\n",
    "lcr=[]\n",
    "for i in range(len(vcf_pos)):\n",
    "    lcr.append(0)\n",
    "i=0    \n",
    "for j in range(len(sorted_intersect)):\n",
    "    while not z_vcf[i]==sorted_intersect[j]: \n",
    "        i+=1\n",
    "    lcr[i]=1\n",
    "    i+=1"
   ]
  },
  {
   "cell_type": "code",
   "execution_count": 18,
   "metadata": {},
   "outputs": [
    {
     "name": "stdout",
     "output_type": "stream",
     "text": [
      "STEP 4 STATISTICS:\n",
      "lcr in fasta:  114764956\n",
      "lcr in vcf:  11442773 \n",
      "\n"
     ]
    }
   ],
   "source": [
    "### 第四步的统计\n",
    "print(\"STEP 4 STATISTICS:\\nlcr in fasta: \",len(pos))\n",
    "count=0\n",
    "for i in lcr:\n",
    "    if i==1:\n",
    "        count+=1\n",
    "print(\"lcr in vcf: \",count,'\\n')"
   ]
  },
  {
   "cell_type": "markdown",
   "metadata": {},
   "source": [
    "## 五、汇总"
   ]
  },
  {
   "cell_type": "code",
   "execution_count": 15,
   "metadata": {},
   "outputs": [
    {
     "name": "stdout",
     "output_type": "stream",
     "text": [
      "After four steps, 5617000(14%) left.5057213(90%) are SNPs; 559787(10%) are INDELs.\n"
     ]
    }
   ],
   "source": [
    "count=0\n",
    "indel=0\n",
    "snp=0\n",
    "for i in range(len(vcf_pos)):\n",
    "    if (CnL[i]==0.1 or CnL[i]==0.2) and HighDens[i]==0 and (QD[i]==0.1 or QD[i]==0.2) and lcr[i]==0:\n",
    "        if len(max(ref[i]+alt[i], key=len, default='1'))>1:\n",
    "            indel+=1\n",
    "        else:\n",
    "            snp+=1\n",
    "        count+=1\n",
    "print(\"After four steps, %s(%.f%%) left.%s(%.f%%) are SNPs; %s(%.f%%) are INDELs.\"%(count,count*100/len(vcf_pos),snp,snp*100/count,indel,indel*100/count))"
   ]
  },
  {
   "cell_type": "code",
   "execution_count": 27,
   "metadata": {
    "scrolled": true
   },
   "outputs": [
    {
     "name": "stdout",
     "output_type": "stream",
     "text": [
      "('scaffold1', 1641) 1.3 0 2 1\n",
      "('scaffold1', 1642) 1.3 0 99 1\n",
      "('scaffold1', 1649) 1.3 0 2 1\n",
      "('scaffold1', 1657) 1.3 0 1 1\n",
      "('scaffold1', 1677) 1.2 0 0.2 1\n",
      "('scaffold1', 1679) 1.5 0 1 0\n",
      "('scaffold1', 1680) 1.5 0 0.2 0\n",
      "('scaffold1', 1681) 1.1 0 99 0\n",
      "('scaffold1', 1682) 1.5 0 1 0\n",
      "('scaffold1', 1683) 1.1 0 99 0\n",
      "('scaffold1', 1684) 1.4 0 1 0\n",
      "('scaffold1', 1685) 1.4 0 1 0\n",
      "('scaffold1', 1686) 1.4 0 0.1 0\n",
      "('scaffold1', 1712) 0.1 0 0.1 0\n",
      "('scaffold1', 1763) 0.1 0 0.1 0\n",
      "('scaffold1', 1777) 0.1 0 0.1 0\n",
      "('scaffold1', 1847) 0.1 0 1 0\n",
      "('scaffold1', 1967) 0.1 0 1 0\n",
      "('scaffold1', 2028) 0.1 0 1 0\n",
      "('scaffold1', 2073) 1.2 0 0.2 0\n",
      "('scaffold1', 2102) 0.1 0 0.1 0\n",
      "('scaffold1', 2124) 0.1 0 1 0\n",
      "('scaffold1', 2205) 1.2 0 0.2 0\n",
      "('scaffold1', 2452) 0.1 0 1 1\n",
      "('scaffold1', 2460) 0.1 1 1 1\n",
      "('scaffold1', 2473) 0.1 0 0.1 1\n",
      "('scaffold1', 2480) 0.2 1 0.2 1\n",
      "('scaffold1', 2499) 0.2 0 0.2 1\n",
      "('scaffold1', 2504) 0.1 1 0.1 1\n",
      "('scaffold1', 2512) 1.5 0 0.2 0\n",
      "('scaffold1', 2516) 1.5 0 0.1 0\n",
      "('scaffold1', 2522) 1.2 0 0.2 0\n",
      "('scaffold1', 2550) 1.2 0 0.2 0\n",
      "('scaffold1', 2585) 0.1 0 0.1 0\n",
      "('scaffold1', 2589) 0.1 1 0.1 0\n",
      "('scaffold1', 2591) 0.2 1 0.2 0\n",
      "('scaffold1', 2610) 0.1 0 0.1 0\n",
      "('scaffold1', 2617) 0.1 1 0.1 0\n",
      "('scaffold1', 2628) 0.1 0 0.1 0\n",
      "('scaffold1', 2632) 0.1 1 0.1 0\n"
     ]
    }
   ],
   "source": [
    "for i in range(80,120):\n",
    "    print(z_vcf[i],CnL[i],HighDens[i],QD[i],lcr[i])"
   ]
  },
  {
   "cell_type": "markdown",
   "metadata": {},
   "source": [
    "## 六、输出到新文件"
   ]
  },
  {
   "cell_type": "code",
   "execution_count": null,
   "metadata": {},
   "outputs": [],
   "source": [
    "####软删除(***还没跑过***)\n",
    "with open(\"52_bbe_copy.vcf\",\"r\") as f:\n",
    "    line_list=f.readlines()\n",
    "    with open(\"techFilt_all.vcf\",\"w\") as g:\n",
    "        g.write(line_list[0])\n",
    "        tmp=[]\n",
    "        for i in range(len(line_list)-1):\n",
    "            tmp=line_list[i+1].append(CnL[i])\n",
    "            tmp=tmp.append(HighDens[i])\n",
    "            tmp=tmp.append(QD[i])\n",
    "            tmp=tmp.append(lcr[i])\n",
    "            g.write(line_list[i]+\"\\n\")\n",
    "        g.close()"
   ]
  },
  {
   "cell_type": "code",
   "execution_count": 16,
   "metadata": {},
   "outputs": [],
   "source": [
    "####只保留删除后的\n",
    "with open(\"52_bbe_copy.vcf\",\"r\") as f:\n",
    "    line_list=f.readlines()[1:]\n",
    "    with open(\"techFilt_left.vcf\",\"w\") as g:\n",
    "        for i in range(len(line_list)):\n",
    "            if (CnL[i]==0.1 or CnL[i]==0.2) and HighDens[i]==0 and (QD[i]==0.1 or QD[i]==0.2) and lcr[i]==0:\n",
    "                g.write(line_list[i])\n",
    "    g.close()"
   ]
  }
 ],
 "metadata": {
  "kernelspec": {
   "display_name": "Python 3",
   "language": "python",
   "name": "python3"
  },
  "language_info": {
   "codemirror_mode": {
    "name": "ipython",
    "version": 3
   },
   "file_extension": ".py",
   "mimetype": "text/x-python",
   "name": "python",
   "nbconvert_exporter": "python",
   "pygments_lexer": "ipython3",
   "version": "3.8.3"
  }
 },
 "nbformat": 4,
 "nbformat_minor": 4
}
