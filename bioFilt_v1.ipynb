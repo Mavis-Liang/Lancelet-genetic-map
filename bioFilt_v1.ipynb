{
 "cells": [
  {
   "cell_type": "code",
   "execution_count": 1,
   "metadata": {},
   "outputs": [],
   "source": [
    "## 导入文件\n",
    "with open(\"techFilt_left.vcf\",\"r\") as f:\n",
    "    line_list=f.readlines()\n",
    "    alt=[]\n",
    "    for line in line_list:\n",
    "        tmp=line.split()\n",
    "        alt.append((tmp[4]).split(\",\"))        "
   ]
  },
  {
   "cell_type": "code",
   "execution_count": 2,
   "metadata": {},
   "outputs": [],
   "source": [
    "## 标记二等位的位点\n",
    "i=0\n",
    "allele=[]\n",
    "for snp in alt:\n",
    "    if len(snp)>1:\n",
    "        i+=1\n",
    "        allele.append(99)\n",
    "    else:\n",
    "        allele.append(2)"
   ]
  },
  {
   "cell_type": "code",
   "execution_count": 3,
   "metadata": {},
   "outputs": [],
   "source": [
    "## 取出二等位位点所有个体的基因型，填入一个二维列表中\n",
    "num=0\n",
    "chrom=[]\n",
    "pos=[]\n",
    "genotype=[]\n",
    "for i in range(len(alt)):\n",
    "    if allele[i]==2:\n",
    "        line=line_list[i].split()\n",
    "        chrom.append(line[0])\n",
    "        pos.append(line[1])\n",
    "        genotype.append([])\n",
    "        for j in range(9,61):\n",
    "            tmp=line[j].split(\":\")\n",
    "            genotype[num].append(tmp[0])\n",
    "        num+=1            "
   ]
  },
  {
   "cell_type": "code",
   "execution_count": 4,
   "metadata": {},
   "outputs": [],
   "source": [
    "#标记母本基因型是否被检出\n",
    "mtl_exi=[]\n",
    "for i in range(len(genotype)):\n",
    "    if genotype[i][0]=='./.' or genotype[i][0]=='.|.':\n",
    "        mtl_exi.append(99)\n",
    "    else:\n",
    "        mtl_exi.append(0)\n",
    "\n",
    "#计数子代各种基因型的数量\n",
    "off_exi=[]\n",
    "off_zero_zero=[]\n",
    "off_zero_one=[]\n",
    "off_one_one=[]\n",
    "for i in range(len(genotype)):\n",
    "    null=0\n",
    "    zero_zero=0\n",
    "    zero_one=0\n",
    "    one_one=0\n",
    "    for j in range(1,52):\n",
    "        if genotype[i][j]=='./.' or genotype[i][j]=='.|.':\n",
    "            null+=1\n",
    "        elif genotype[i][j]=='0/0' or genotype[i][j]=='0|0':\n",
    "            zero_zero+=1\n",
    "        elif genotype[i][j]=='0/1' or genotype[i][j]=='0|1':\n",
    "            zero_one+=1\n",
    "        elif genotype[i][j]=='1/1' or genotype[i][j]=='1|1':\n",
    "            one_one+=1    \n",
    "    off_exi.append(51-null)\n",
    "    off_zero_zero.append(zero_zero)\n",
    "    off_zero_one.append(zero_one)\n",
    "    off_one_one.append(one_one)"
   ]
  },
  {
   "cell_type": "code",
   "execution_count": 15,
   "metadata": {},
   "outputs": [
    {
     "name": "stdout",
     "output_type": "stream",
     "text": [
      "1870399 0.34176240520172013 0.3329889620794018\n"
     ]
    }
   ],
   "source": [
    "# 标记符合孟德尔分离定律的位点，标为0，其余为99.\n",
    "count=0\n",
    "seg_test=[]\n",
    "for i in range(len(genotype)):\n",
    "    if mtl_exi[i]==0 and \\\n",
    "    (((not off_zero_zero[i]==0) and off_one_one[i]==0) or \\\n",
    "     ((not off_one_one[i]==0) and off_zero_zero[i]==0)):\n",
    "    ### 0/0 和 1/1必须有其一是0，不然有可能是自交的情况\n",
    "            \n",
    "        if off_exi[i]==51:\n",
    "            if off_zero_one[i]>=19 and off_zero_one[i]<=32:\n",
    "                count+=1\n",
    "                seg_test.append(0)\n",
    "            else:\n",
    "                seg_test.append(99)\n",
    "        elif off_exi[i]==50:\n",
    "            if off_zero_one[i]>=19 and off_zero_one[i]<=31:\n",
    "                count+=1\n",
    "                seg_test.append(0)\n",
    "            else:\n",
    "                seg_test.append(99)\n",
    "        elif off_exi[i]==49:\n",
    "            if off_zero_one[i]>=18 and off_zero_one[i]<=31:\n",
    "                count+=1\n",
    "                seg_test.append(0)\n",
    "            else:\n",
    "                seg_test.append(99)\n",
    "        elif off_exi[i]==48:\n",
    "            if off_zero_one[i]>=18 and off_zero_one[i]<=30:\n",
    "                count+=1\n",
    "                seg_test.append(0)\n",
    "            else:\n",
    "                seg_test.append(99)\n",
    "        else:\n",
    "            seg_test.append(99)\n",
    "    else:\n",
    "        seg_test.append(99)\n",
    "print(count,count/len(genotype),count/len(alt))"
   ]
  },
  {
   "cell_type": "code",
   "execution_count": 21,
   "metadata": {},
   "outputs": [
    {
     "name": "stdout",
     "output_type": "stream",
     "text": [
      "scaffold1 7937 0 51 0 51 0 99\n",
      "scaffold1 7962 0 51 22 29 0 0\n",
      "scaffold1 7993 0 51 29 22 0 0\n",
      "scaffold1 8131 0 42 0 0 42 99\n",
      "scaffold1 8277 0 51 2 48 1 99\n",
      "scaffold1 8290 0 50 23 27 0 0\n",
      "scaffold1 8320 0 51 0 51 0 99\n",
      "scaffold1 8347 0 51 22 29 0 0\n",
      "scaffold1 8362 0 51 14 25 12 99\n",
      "scaffold1 8467 99 19 0 0 19 99\n",
      "scaffold1 8621 0 39 38 1 0 99\n",
      "scaffold1 8640 0 39 13 11 15 99\n",
      "scaffold1 8678 0 24 23 0 1 99\n",
      "scaffold1 8964 0 51 0 24 27 0\n",
      "scaffold1 9003 0 51 0 1 50 99\n",
      "scaffold1 9017 0 51 8 21 22 99\n",
      "scaffold1 9027 0 48 5 18 25 99\n",
      "scaffold1 9039 0 48 0 1 47 99\n",
      "scaffold1 9357 0 27 0 0 27 99\n",
      "scaffold1 9377 0 26 0 0 26 99\n"
     ]
    }
   ],
   "source": [
    "for i in range(60,80):\n",
    "    print(chrom[i],pos[i],mtl_exi[i],off_exi[i],off_zero_zero[i],off_zero_one[i],off_one_one[i],seg_test[i])"
   ]
  }
 ],
 "metadata": {
  "kernelspec": {
   "display_name": "Python 3",
   "language": "python",
   "name": "python3"
  },
  "language_info": {
   "codemirror_mode": {
    "name": "ipython",
    "version": 3
   },
   "file_extension": ".py",
   "mimetype": "text/x-python",
   "name": "python",
   "nbconvert_exporter": "python",
   "pygments_lexer": "ipython3",
   "version": "3.8.3"
  }
 },
 "nbformat": 4,
 "nbformat_minor": 4
}
