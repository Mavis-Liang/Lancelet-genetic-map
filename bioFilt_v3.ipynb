{
 "cells": [
  {
   "cell_type": "code",
   "execution_count": 1,
   "metadata": {},
   "outputs": [],
   "source": [
    "## 导入文件\n",
    "with open(\"techFilt_left.vcf\",\"r\") as f:\n",
    "    line_list=f.readlines()\n",
    "    num=0\n",
    "    ref=[]\n",
    "    alt=[]\n",
    "    chrom=[]\n",
    "    pos=[]\n",
    "    genotype=[]\n",
    "    for i in range(len(line_list)):\n",
    "        tmp=line_list[i].split()\n",
    "        chrom.append(tmp[0])\n",
    "        pos.append(tmp[1])\n",
    "        ref.append((tmp[3]).split(\",\"))\n",
    "        alt.append((tmp[4]).split(\",\"))\n",
    "        ## 取出所有个体的基因型，填入一个二维列表中\n",
    "        genotype.append([])\n",
    "        for j in range(9,61):\n",
    "            tmp2=tmp[j].split(\":\")\n",
    "            genotype[num].append(tmp2[0])\n",
    "        num+=1"
   ]
  },
  {
   "cell_type": "markdown",
   "metadata": {},
   "source": [
    "### 一、孟德尔分离定律检验"
   ]
  },
  {
   "cell_type": "code",
   "execution_count": 2,
   "metadata": {},
   "outputs": [
    {
     "name": "stdout",
     "output_type": "stream",
     "text": [
      "0.8774116076197258\n"
     ]
    }
   ],
   "source": [
    "## 标记二等位的snp位点(在这一步去掉indel)\n",
    "count=0\n",
    "allele=[]\n",
    "for i in range(len(alt)):\n",
    "    if len(alt[i])==1 and len(alt[i][0])==1 and len(ref[i][0])==1:\n",
    "        count+=1\n",
    "        allele.append(0)\n",
    "    else:\n",
    "        allele.append(99)\n",
    "print(count/len(alt))"
   ]
  },
  {
   "cell_type": "code",
   "execution_count": 3,
   "metadata": {},
   "outputs": [],
   "source": [
    "#标记母本基因型是否为杂合子\n",
    "mtl_heter=[]\n",
    "for i in range(len(chrom)):\n",
    "    if genotype[i][0]=='0/1' or genotype[i][0]=='0|1':\n",
    "        mtl_heter.append(0)\n",
    "    else:\n",
    "        mtl_heter.append(99)\n",
    "\n",
    "#计数子代各种基因型的数量\n",
    "off_exi=[]\n",
    "off_zero_zero=[]\n",
    "off_zero_one=[]\n",
    "off_one_one=[]\n",
    "for i in range(len(chrom)):\n",
    "    null=0\n",
    "    zero_zero=0\n",
    "    zero_one=0\n",
    "    one_one=0\n",
    "    for j in range(1,52):\n",
    "        if genotype[i][j]=='./.' or genotype[i][j]=='.|.':\n",
    "            null+=1\n",
    "        elif genotype[i][j]=='0/0' or genotype[i][j]=='0|0':\n",
    "            zero_zero+=1\n",
    "        elif genotype[i][j]=='0/1' or genotype[i][j]=='0|1':\n",
    "            zero_one+=1\n",
    "        elif genotype[i][j]=='1/1' or genotype[i][j]=='1|1':\n",
    "            one_one+=1    \n",
    "    off_exi.append(51-null)\n",
    "    off_zero_zero.append(zero_zero)\n",
    "    off_zero_one.append(zero_one)\n",
    "    off_one_one.append(one_one)"
   ]
  },
  {
   "cell_type": "code",
   "execution_count": 4,
   "metadata": {},
   "outputs": [
    {
     "name": "stdout",
     "output_type": "stream",
     "text": [
      "791257 0.14086825707673134 0.14086825707673134\n"
     ]
    }
   ],
   "source": [
    "# 标记符合孟德尔分离定律的位点，标为0，其余为99.\n",
    "count=0\n",
    "seg_test=[]\n",
    "for i in range(len(chrom)):\n",
    "    if allele[i]==0 and \\\n",
    "    mtl_heter[i]==0 and \\\n",
    "    (((not off_zero_zero[i]==0) and off_one_one[i]==0) or \\\n",
    "     ((not off_one_one[i]==0) and off_zero_zero[i]==0)):\n",
    "    ### 0/0 和 1/1必须有其一是0，不然有可能是自交的情况\n",
    "            \n",
    "        if off_exi[i]==51:\n",
    "            if off_zero_one[i]>=19 and off_zero_one[i]<=32:\n",
    "                count+=1\n",
    "                seg_test.append(0)\n",
    "            else:\n",
    "                seg_test.append(99)\n",
    "        elif off_exi[i]==50:\n",
    "            if off_zero_one[i]>=19 and off_zero_one[i]<=31:\n",
    "                count+=1\n",
    "                seg_test.append(0)\n",
    "            else:\n",
    "                seg_test.append(99)\n",
    "        elif off_exi[i]==49:\n",
    "            if off_zero_one[i]>=18 and off_zero_one[i]<=31:\n",
    "                count+=1\n",
    "                seg_test.append(0)\n",
    "            else:\n",
    "                seg_test.append(99)\n",
    "        elif off_exi[i]==48:\n",
    "            if off_zero_one[i]>=18 and off_zero_one[i]<=30:\n",
    "                count+=1\n",
    "                seg_test.append(0)\n",
    "            else:\n",
    "                seg_test.append(99)\n",
    "        else:\n",
    "            seg_test.append(99)\n",
    "    else:\n",
    "        seg_test.append(99)\n",
    "print(count,count/len(chrom),count/len(alt))"
   ]
  },
  {
   "cell_type": "code",
   "execution_count": 5,
   "metadata": {},
   "outputs": [
    {
     "name": "stdout",
     "output_type": "stream",
     "text": [
      "scaffold1 99979 99 51 27 24 0 99\n"
     ]
    }
   ],
   "source": [
    "for i in range(1564,1565):\n",
    "    print(chrom[i],pos[i],mtl_heter[i],off_exi[i],off_zero_zero[i],off_zero_one[i],off_one_one[i],seg_test[i])"
   ]
  },
  {
   "cell_type": "code",
   "execution_count": 6,
   "metadata": {},
   "outputs": [],
   "source": [
    "# 硬删除(all)\n",
    "with open(\"techFilt_left.vcf\",\"r\") as f:\n",
    "    line_list=f.readlines()\n",
    "with open(\"bioFilt_left.vcf\",\"w\") as g:\n",
    "    g.write(\"#CHROM\\tPOS\\tID\\tREF\\tALT\\tQUAL\\tFILTER\\tINFO\\tFORMAT\\tmaternal1\"\\\n",
    "            +\"\\toff05\\toff06\\toff07\\toff_L1_80\\toff_L1_81\\toff_L1_83\\toff_L2_85\"\\\n",
    "            +\"\\toff_L2_86\\toff_L2_89\\toff_L3_90\\toff_L3_92\\toff_L3_93\\toff_L4_94\"\\\n",
    "            +\"\\toff_L4_96\\toff_L4_97\\toff_L5_100\\toff_L5_101\\toff_L5_98\\toff_L6_102\"\\\n",
    "            +\"\\toff_L6_106\\toff_L6_108\\toff_L7_110\\toff_L7_111\\toff_L7_112\\toff_L8_103\"\\\n",
    "            +\"\\toff_L8_113\\toff_L8_95\\txL1_58\\txL1_59\\txL1_60\\txL2_61\\txL2_62\\txL2_63\"\\\n",
    "            +\"\\txL3_66\\txL3_67\\txL3_68\\txL4_70\\txL4_71\\txL4_72\\txL5_73\\txL5_75\\txL5_76\"\\\n",
    "            +\"\\txL6_77\\txL6_78\\txL6_79\\txL7_80\\txL7_81\\txL7_83\\txL8_84\\txL8_85\\txL8_86\\n\")\n",
    "    for i in range(len(line_list)):\n",
    "            if seg_test[i]==0:\n",
    "                g.write(line_list[i])\n",
    "    g.close()"
   ]
  },
  {
   "cell_type": "code",
   "execution_count": 9,
   "metadata": {},
   "outputs": [],
   "source": [
    "# 取前50kb\n",
    "with open(\"techFilt_left.vcf\",\"r\") as f:\n",
    "    line_list=f.readlines()[746:1564] #50kb:745; 100kb:1564\n",
    "with open(\"bioFilt_left_50to100kb_v2.vcf\",\"w\") as g:\n",
    "    g.write(\"#CHROM\\tPOS\\tID\\tREF\\tALT\\tQUAL\\tFILTER\\tINFO\\tFORMAT\\tmaternal1\"\\\n",
    "            +\"\\toff05\\toff06\\toff07\\toff_L1_80\\toff_L1_81\\toff_L1_83\\toff_L2_85\"\\\n",
    "            +\"\\toff_L2_86\\toff_L2_89\\toff_L3_90\\toff_L3_92\\toff_L3_93\\toff_L4_94\"\\\n",
    "            +\"\\toff_L4_96\\toff_L4_97\\toff_L5_100\\toff_L5_101\\toff_L5_98\\toff_L6_102\"\\\n",
    "            +\"\\toff_L6_106\\toff_L6_108\\toff_L7_110\\toff_L7_111\\toff_L7_112\\toff_L8_103\"\\\n",
    "            +\"\\toff_L8_113\\toff_L8_95\\txL1_58\\txL1_59\\txL1_60\\txL2_61\\txL2_62\\txL2_63\"\\\n",
    "            +\"\\txL3_66\\txL3_67\\txL3_68\\txL4_70\\txL4_71\\txL4_72\\txL5_73\\txL5_75\\txL5_76\"\\\n",
    "            +\"\\txL6_77\\txL6_78\\txL6_79\\txL7_80\\txL7_81\\txL7_83\\txL8_84\\txL8_85\\txL8_86\\n\")\n",
    "    for i in range(len(line_list)):\n",
    "            if seg_test[i]==0:\n",
    "                g.write(line_list[i])\n",
    "    g.close()"
   ]
  },
  {
   "cell_type": "code",
   "execution_count": 8,
   "metadata": {},
   "outputs": [],
   "source": [
    "##### 画密度图\n",
    "##取50个最多位点的scaffold，约占全部位点的50%。\n",
    "##转换为pandas数据框，进行分scaffold计数，并从多到少排序。\n",
    "from pandas.core.frame import DataFrame\n",
    "import numpy as np\n",
    "chrom_left1_all=[]\n",
    "pos_left1_all=[]\n",
    "for i in range(len(alt)):\n",
    "    if seg_test[i]==0:\n",
    "        chrom_left1_all.append(chrom[i])\n",
    "        pos_left1_all.append(int(pos[i]))\n",
    "kept1_dict={\"chrom\":chrom_left1_all,\"pos\":pos_left1_all}\n",
    "kept1_df=DataFrame(kept1_dict)              \n",
    "kept1_count=kept1_df.groupby([\"chrom\"]).count()\n",
    "kept1_count_sort=kept1_count.reset_index().sort_values('pos',ascending = False).set_index('chrom').reset_index()\n",
    "top50_list=kept1_count_sort['chrom'].tolist()[:50]\n",
    "\n",
    "##取得top50scaffold的所有位点，写入文件。\n",
    "chrom_left1_top50=[]\n",
    "pos_left1_top50=[]\n",
    "for i in range(0,len(chrom_left1_all)-1):\n",
    "    if chrom_left1_all[i] in top50_list:\n",
    "        chrom_left1_top50.append(chrom_left1_all[i])\n",
    "        pos_left1_top50.append(pos_left1_all[i])\n",
    "\n",
    "np_chrom_kept=np.array(chrom_left1_top50)\n",
    "np_pos_kept=np.array(pos_left1_top50)\n",
    "index=np.arange(1,len(np_pos_kept)+1)\n",
    "l=np.vstack((index,np_chrom_kept,np_pos_kept)).T\n",
    "np.savetxt(\"bioFilt_left_top50_addIndex.txt\",l,fmt='%s',delimiter='\\t')"
   ]
  },
  {
   "cell_type": "markdown",
   "metadata": {},
   "source": [
    "### 二、根据符合孟德尔分离定律的二等位位点预测副本基因型\n",
    "（包括ABxAB, AAxAB, ABxAA, AAxBB的所有二等位位点）"
   ]
  }
 ],
 "metadata": {
  "kernelspec": {
   "display_name": "Python 3",
   "language": "python",
   "name": "python3"
  },
  "language_info": {
   "codemirror_mode": {
    "name": "ipython",
    "version": 3
   },
   "file_extension": ".py",
   "mimetype": "text/x-python",
   "name": "python",
   "nbconvert_exporter": "python",
   "pygments_lexer": "ipython3",
   "version": "3.8.3"
  }
 },
 "nbformat": 4,
 "nbformat_minor": 4
}
